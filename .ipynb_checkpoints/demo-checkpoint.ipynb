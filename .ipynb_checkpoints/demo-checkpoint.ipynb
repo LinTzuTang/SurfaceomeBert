{
 "cells": [
  {
   "cell_type": "markdown",
   "metadata": {},
   "source": [
    "# Fine-tune Model"
   ]
  },
  {
   "cell_type": "code",
   "execution_count": 1,
   "metadata": {
    "scrolled": true
   },
   "outputs": [
    {
     "name": "stdout",
     "output_type": "stream",
     "text": [
      "2832 2832\n"
     ]
    }
   ],
   "source": [
    "## DATASET 1416\n",
    "import random\n",
    "import numpy as np\n",
    "import pandas as pd\n",
    "from utils import valid_report, read_fasta, negtive_sampling, save_fituned_model, model_fituning, cross_validation\n",
    "\n",
    "############################################\n",
    "##               settings                 ##\n",
    "############################################\n",
    "\n",
    "seed_val = 42\n",
    "random.seed(seed_val)\n",
    "np.random.seed(seed_val)\n",
    "\n",
    "############################################\n",
    "##               load data                ##\n",
    "############################################\n",
    "\n",
    "MAX_LEN = 512\n",
    "\n",
    "positive_1416 = read_fasta('./positive_1416.fasta')\n",
    "negtive_16590 = read_fasta('./negtive_16590.fasta')\n",
    "\n",
    "positive_sentences = []\n",
    "for p in positive_1416.values():\n",
    "    positive_sentences.append(p[:MAX_LEN-2])\n",
    "\n",
    "positive_labels = [1]*len(positive_sentences)\n",
    "\n",
    "negtive_sentences, negitive_labels = negtive_sampling(negtive_16590, len(positive_labels))\n",
    "\n",
    "sentences=positive_sentences+negtive_sentences\n",
    "labels = positive_labels+negitive_labels\n",
    "print(len(labels),len(sentences))\n",
    "\n",
    "\n",
    "############################################\n",
    "##          save one-fold to test         ##\n",
    "############################################\n",
    "\n",
    "fold_index=0\n",
    "k=10\n",
    "train = []\n",
    "train_labels = []\n",
    "test = []\n",
    "test_labels = []\n",
    "\n",
    "for s in range(len(sentences)):\n",
    "    if s%k==fold_index:\n",
    "        test.append(sentences[s])\n",
    "        test_labels.append(labels[s])\n",
    "    else:\n",
    "        train.append(sentences[s])\n",
    "        train_labels.append(labels[s])\n",
    "\n",
    "train_set = pd.DataFrame(data={'label':train_labels,'seq':train})\n",
    "test_set = pd.DataFrame(data={'label':test_labels,'seq':test})\n",
    "\n",
    "\n",
    "############################################\n",
    "##                training                ##\n",
    "############################################\n",
    "\n",
    "model, result, confusion_matrix = model_fituning('K'+str(fold_index), train_set, test_set, save_model=True)\n",
    "\n",
    "\n",
    "############################################\n",
    "##          print the result              ##\n",
    "############################################\n",
    "\n",
    "valid_report('[DATASET 1416]', [result], [confusion_matrix])"
   ]
  },
  {
   "cell_type": "markdown",
   "metadata": {},
   "source": [
    "# Appendix"
   ]
  },
  {
   "cell_type": "code",
   "execution_count": 8,
   "metadata": {},
   "outputs": [
    {
     "data": {
      "text/plain": [
       "array([[0.04064   ],\n",
       "       [0.02551973],\n",
       "       [0.05227202],\n",
       "       [0.03922716],\n",
       "       [0.00764081],\n",
       "       [0.08009022],\n",
       "       [0.01084805],\n",
       "       [0.4980178 ],\n",
       "       [0.21998864],\n",
       "       [0.00953716]], dtype=float32)"
      ]
     },
     "execution_count": 8,
     "metadata": {},
     "output_type": "execute_result"
    }
   ],
   "source": [
    "from utils import get_prediction, load_fituned_model, read_fasta\n",
    "from proteinbert import load_pretrained_model\n",
    "\n",
    "############################################\n",
    "##               load data                ##\n",
    "############################################\n",
    "\n",
    "MAX_LEN=512\n",
    "\n",
    "human_20386 = read_fasta('./human_20386.fasta')\n",
    "\n",
    "sentences = []\n",
    "for p in human_20386.values():\n",
    "    sentences.append(p[:MAX_LEN-2])\n",
    "\n",
    "    \n",
    "############################################\n",
    "##       load model and get prediction    ##\n",
    "############################################\n",
    "\n",
    "model = load_fituned_model(model_path='./default/checkpoint', seq_len=512)\n",
    "\n",
    "ypred = get_prediction(sentences, model)\n",
    "\n",
    "ypred"
   ]
  },
  {
   "cell_type": "code",
   "execution_count": null,
   "metadata": {},
   "outputs": [],
   "source": []
  }
 ],
 "metadata": {
  "kernelspec": {
   "display_name": "Python 3",
   "language": "python",
   "name": "python3"
  },
  "language_info": {
   "codemirror_mode": {
    "name": "ipython",
    "version": 3
   },
   "file_extension": ".py",
   "mimetype": "text/x-python",
   "name": "python",
   "nbconvert_exporter": "python",
   "pygments_lexer": "ipython3",
   "version": "3.6.12"
  }
 },
 "nbformat": 4,
 "nbformat_minor": 2
}
