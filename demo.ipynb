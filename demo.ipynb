{
 "cells": [
  {
   "cell_type": "markdown",
   "metadata": {},
   "source": [
    "# Fine-tune Model"
   ]
  },
  {
   "cell_type": "code",
   "execution_count": 1,
   "metadata": {
    "scrolled": true
   },
   "outputs": [
    {
     "ename": "ModuleNotFoundError",
     "evalue": "No module named 'proteinbert.shared_utils.util'",
     "output_type": "error",
     "traceback": [
      "\u001b[0;31m---------------------------------------------------------------------------\u001b[0m",
      "\u001b[0;31mModuleNotFoundError\u001b[0m                       Traceback (most recent call last)",
      "Input \u001b[0;32mIn [1]\u001b[0m, in \u001b[0;36m<module>\u001b[0;34m\u001b[0m\n\u001b[1;32m      3\u001b[0m \u001b[38;5;28;01mimport\u001b[39;00m \u001b[38;5;21;01mnumpy\u001b[39;00m \u001b[38;5;28;01mas\u001b[39;00m \u001b[38;5;21;01mnp\u001b[39;00m\n\u001b[1;32m      4\u001b[0m \u001b[38;5;28;01mimport\u001b[39;00m \u001b[38;5;21;01mpandas\u001b[39;00m \u001b[38;5;28;01mas\u001b[39;00m \u001b[38;5;21;01mpd\u001b[39;00m\n\u001b[0;32m----> 5\u001b[0m \u001b[38;5;28;01mfrom\u001b[39;00m \u001b[38;5;21;01mutils\u001b[39;00m \u001b[38;5;28;01mimport\u001b[39;00m valid_report, read_fasta, negtive_sampling, save_fituned_model, model_fituning, cross_validation\n\u001b[1;32m      7\u001b[0m \u001b[38;5;66;03m############################################\u001b[39;00m\n\u001b[1;32m      8\u001b[0m \u001b[38;5;66;03m##               settings                 ##\u001b[39;00m\n\u001b[1;32m      9\u001b[0m \u001b[38;5;66;03m############################################\u001b[39;00m\n\u001b[1;32m     11\u001b[0m seed_val \u001b[38;5;241m=\u001b[39m \u001b[38;5;241m42\u001b[39m\n",
      "File \u001b[0;32m/home/SurfaceomeBert/utils.py:9\u001b[0m, in \u001b[0;36m<module>\u001b[0;34m\u001b[0m\n\u001b[1;32m      5\u001b[0m \u001b[38;5;28;01mfrom\u001b[39;00m \u001b[38;5;21;01mtensorflow\u001b[39;00m \u001b[38;5;28;01mimport\u001b[39;00m keras\n\u001b[1;32m      7\u001b[0m \u001b[38;5;28;01mfrom\u001b[39;00m \u001b[38;5;21;01msklearn\u001b[39;00m\u001b[38;5;21;01m.\u001b[39;00m\u001b[38;5;21;01mmodel_selection\u001b[39;00m \u001b[38;5;28;01mimport\u001b[39;00m train_test_split\n\u001b[0;32m----> 9\u001b[0m \u001b[38;5;28;01mfrom\u001b[39;00m \u001b[38;5;21;01mproteinbert\u001b[39;00m \u001b[38;5;28;01mimport\u001b[39;00m OutputType, OutputSpec, FinetuningModelGenerator, load_pretrained_model, finetune\n\u001b[1;32m     10\u001b[0m \u001b[38;5;28;01mfrom\u001b[39;00m \u001b[38;5;21;01mproteinbert\u001b[39;00m\u001b[38;5;21;01m.\u001b[39;00m\u001b[38;5;21;01mconv_and_global_attention_model\u001b[39;00m \u001b[38;5;28;01mimport\u001b[39;00m get_model_with_hidden_layers_as_outputs\n\u001b[1;32m     13\u001b[0m \u001b[38;5;28;01mdef\u001b[39;00m \u001b[38;5;21mget_prediction\u001b[39m(data, model, BATCH_SIZE\u001b[38;5;241m=\u001b[39m\u001b[38;5;241m32\u001b[39m, SEQ_LEN\u001b[38;5;241m=\u001b[39m\u001b[38;5;241m512\u001b[39m):\n",
      "File \u001b[0;32m/home/SurfaceomeBert/proteinbert/__init__.py:1\u001b[0m, in \u001b[0;36m<module>\u001b[0;34m\u001b[0m\n\u001b[0;32m----> 1\u001b[0m \u001b[38;5;28;01mfrom\u001b[39;00m \u001b[38;5;21;01m.\u001b[39;00m\u001b[38;5;21;01mshared_utils\u001b[39;00m\u001b[38;5;21;01m.\u001b[39;00m\u001b[38;5;21;01mutil\u001b[39;00m \u001b[38;5;28;01mimport\u001b[39;00m log\n\u001b[1;32m      2\u001b[0m \u001b[38;5;28;01mfrom\u001b[39;00m \u001b[38;5;21;01m.\u001b[39;00m\u001b[38;5;21;01mtokenization\u001b[39;00m \u001b[38;5;28;01mimport\u001b[39;00m ADDED_TOKENS_PER_SEQ\n\u001b[1;32m      3\u001b[0m \u001b[38;5;28;01mfrom\u001b[39;00m \u001b[38;5;21;01m.\u001b[39;00m\u001b[38;5;21;01mmodel_generation\u001b[39;00m \u001b[38;5;28;01mimport\u001b[39;00m ModelGenerator, PretrainingModelGenerator, FinetuningModelGenerator, InputEncoder, load_pretrained_model_from_dump, tokenize_seqs\n",
      "\u001b[0;31mModuleNotFoundError\u001b[0m: No module named 'proteinbert.shared_utils.util'"
     ]
    }
   ],
   "source": [
    "## DATASET 1416\n",
    "import random\n",
    "import numpy as np\n",
    "import pandas as pd\n",
    "from utils import valid_report, read_fasta, negtive_sampling, save_fituned_model, model_fituning, cross_validation\n",
    "\n",
    "############################################\n",
    "##               settings                 ##\n",
    "############################################\n",
    "\n",
    "seed_val = 42\n",
    "random.seed(seed_val)\n",
    "np.random.seed(seed_val)\n",
    "\n",
    "############################################\n",
    "##               load data                ##\n",
    "############################################\n",
    "\n",
    "MAX_LEN = 512\n",
    "\n",
    "positive_1416 = read_fasta('./positive_1416.fasta')\n",
    "negtive_16590 = read_fasta('./negtive_16590.fasta')\n",
    "\n",
    "positive_sentences = []\n",
    "for p in positive_1416.values():\n",
    "    positive_sentences.append(p[:MAX_LEN-2])\n",
    "\n",
    "positive_labels = [1]*len(positive_sentences)\n",
    "\n",
    "negtive_sentences, negitive_labels = negtive_sampling(negtive_16590, len(positive_labels))\n",
    "\n",
    "sentences=positive_sentences+negtive_sentences\n",
    "labels = positive_labels+negitive_labels\n",
    "print(len(labels),len(sentences))\n",
    "\n",
    "\n",
    "############################################\n",
    "##          save one-fold to test         ##\n",
    "############################################\n",
    "\n",
    "fold_index=0\n",
    "k=10\n",
    "train = []\n",
    "train_labels = []\n",
    "test = []\n",
    "test_labels = []\n",
    "\n",
    "for s in range(len(sentences)):\n",
    "    if s%k==fold_index:\n",
    "        test.append(sentences[s])\n",
    "        test_labels.append(labels[s])\n",
    "    else:\n",
    "        train.append(sentences[s])\n",
    "        train_labels.append(labels[s])\n",
    "\n",
    "train_set = pd.DataFrame(data={'label':train_labels,'seq':train})\n",
    "test_set = pd.DataFrame(data={'label':test_labels,'seq':test})\n",
    "\n",
    "\n",
    "############################################\n",
    "##                training                ##\n",
    "############################################\n",
    "\n",
    "model, result, confusion_matrix = model_fituning('K'+str(fold_index), train_set, test_set, save_model=True)\n",
    "\n",
    "\n",
    "############################################\n",
    "##          print the result              ##\n",
    "############################################\n",
    "\n",
    "valid_report('[DATASET 1416]', [result], [confusion_matrix])"
   ]
  },
  {
   "cell_type": "markdown",
   "metadata": {},
   "source": [
    "# Appendix"
   ]
  },
  {
   "cell_type": "code",
   "execution_count": 2,
   "metadata": {},
   "outputs": [
    {
     "ename": "ModuleNotFoundError",
     "evalue": "No module named 'proteinbert.shared_utils.util'",
     "output_type": "error",
     "traceback": [
      "\u001b[0;31m---------------------------------------------------------------------------\u001b[0m",
      "\u001b[0;31mModuleNotFoundError\u001b[0m                       Traceback (most recent call last)",
      "Input \u001b[0;32mIn [2]\u001b[0m, in \u001b[0;36m<module>\u001b[0;34m\u001b[0m\n\u001b[0;32m----> 1\u001b[0m \u001b[38;5;28;01mfrom\u001b[39;00m \u001b[38;5;21;01mutils\u001b[39;00m \u001b[38;5;28;01mimport\u001b[39;00m get_prediction, load_fituned_model, read_fasta\n\u001b[1;32m      2\u001b[0m \u001b[38;5;28;01mfrom\u001b[39;00m \u001b[38;5;21;01mproteinbert\u001b[39;00m \u001b[38;5;28;01mimport\u001b[39;00m load_pretrained_model\n\u001b[1;32m      4\u001b[0m \u001b[38;5;66;03m############################################\u001b[39;00m\n\u001b[1;32m      5\u001b[0m \u001b[38;5;66;03m##               load data                ##\u001b[39;00m\n\u001b[1;32m      6\u001b[0m \u001b[38;5;66;03m############################################\u001b[39;00m\n",
      "File \u001b[0;32m/home/SurfaceomeBert/utils.py:9\u001b[0m, in \u001b[0;36m<module>\u001b[0;34m\u001b[0m\n\u001b[1;32m      5\u001b[0m \u001b[38;5;28;01mfrom\u001b[39;00m \u001b[38;5;21;01mtensorflow\u001b[39;00m \u001b[38;5;28;01mimport\u001b[39;00m keras\n\u001b[1;32m      7\u001b[0m \u001b[38;5;28;01mfrom\u001b[39;00m \u001b[38;5;21;01msklearn\u001b[39;00m\u001b[38;5;21;01m.\u001b[39;00m\u001b[38;5;21;01mmodel_selection\u001b[39;00m \u001b[38;5;28;01mimport\u001b[39;00m train_test_split\n\u001b[0;32m----> 9\u001b[0m \u001b[38;5;28;01mfrom\u001b[39;00m \u001b[38;5;21;01mproteinbert\u001b[39;00m \u001b[38;5;28;01mimport\u001b[39;00m OutputType, OutputSpec, FinetuningModelGenerator, load_pretrained_model, finetune\n\u001b[1;32m     10\u001b[0m \u001b[38;5;28;01mfrom\u001b[39;00m \u001b[38;5;21;01mproteinbert\u001b[39;00m\u001b[38;5;21;01m.\u001b[39;00m\u001b[38;5;21;01mconv_and_global_attention_model\u001b[39;00m \u001b[38;5;28;01mimport\u001b[39;00m get_model_with_hidden_layers_as_outputs\n\u001b[1;32m     13\u001b[0m \u001b[38;5;28;01mdef\u001b[39;00m \u001b[38;5;21mget_prediction\u001b[39m(data, model, BATCH_SIZE\u001b[38;5;241m=\u001b[39m\u001b[38;5;241m32\u001b[39m, SEQ_LEN\u001b[38;5;241m=\u001b[39m\u001b[38;5;241m512\u001b[39m):\n",
      "File \u001b[0;32m/home/SurfaceomeBert/proteinbert/__init__.py:1\u001b[0m, in \u001b[0;36m<module>\u001b[0;34m\u001b[0m\n\u001b[0;32m----> 1\u001b[0m \u001b[38;5;28;01mfrom\u001b[39;00m \u001b[38;5;21;01m.\u001b[39;00m\u001b[38;5;21;01mshared_utils\u001b[39;00m\u001b[38;5;21;01m.\u001b[39;00m\u001b[38;5;21;01mutil\u001b[39;00m \u001b[38;5;28;01mimport\u001b[39;00m log\n\u001b[1;32m      2\u001b[0m \u001b[38;5;28;01mfrom\u001b[39;00m \u001b[38;5;21;01m.\u001b[39;00m\u001b[38;5;21;01mtokenization\u001b[39;00m \u001b[38;5;28;01mimport\u001b[39;00m ADDED_TOKENS_PER_SEQ\n\u001b[1;32m      3\u001b[0m \u001b[38;5;28;01mfrom\u001b[39;00m \u001b[38;5;21;01m.\u001b[39;00m\u001b[38;5;21;01mmodel_generation\u001b[39;00m \u001b[38;5;28;01mimport\u001b[39;00m ModelGenerator, PretrainingModelGenerator, FinetuningModelGenerator, InputEncoder, load_pretrained_model_from_dump, tokenize_seqs\n",
      "\u001b[0;31mModuleNotFoundError\u001b[0m: No module named 'proteinbert.shared_utils.util'"
     ]
    }
   ],
   "source": [
    "from utils import get_prediction, load_fituned_model, read_fasta\n",
    "from proteinbert import load_pretrained_model\n",
    "\n",
    "############################################\n",
    "##               load data                ##\n",
    "############################################\n",
    "\n",
    "MAX_LEN=512\n",
    "\n",
    "human_20386 = read_fasta('./human_20386.fasta')\n",
    "\n",
    "sentences = []\n",
    "for p in human_20386.values():\n",
    "    sentences.append(p[:MAX_LEN-2])\n",
    "\n",
    "    \n",
    "############################################\n",
    "##       load model and get prediction    ##\n",
    "############################################\n",
    "\n",
    "model = load_fituned_model(model_path='./default/checkpoint', seq_len=512)\n",
    "\n",
    "ypred = get_prediction(sentences, model)\n",
    "\n",
    "ypred"
   ]
  },
  {
   "cell_type": "code",
   "execution_count": null,
   "metadata": {},
   "outputs": [],
   "source": []
  }
 ],
 "metadata": {
  "kernelspec": {
   "display_name": "Python 3",
   "language": "python",
   "name": "python3"
  }
 },
 "nbformat": 4,
 "nbformat_minor": 2
}
